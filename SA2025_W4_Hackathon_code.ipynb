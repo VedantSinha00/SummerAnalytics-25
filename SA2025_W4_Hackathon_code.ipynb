{
 "cells": [
  {
   "cell_type": "code",
   "execution_count": 1,
   "id": "a8b20dab-3e19-44d8-a1ed-3433641247ec",
   "metadata": {},
   "outputs": [],
   "source": [
    "import pandas as pd"
   ]
  },
  {
   "cell_type": "code",
   "execution_count": 2,
   "id": "668e77f7-1ec1-401c-ac5a-f4157d7c40eb",
   "metadata": {},
   "outputs": [],
   "source": [
    "train = pd.read_csv(r\"G:\\Downloads\\Summer Analytics '25\\Week 4\\train_data.csv\") \n",
    "test = pd.read_csv(r\"G:\\Downloads\\Summer Analytics '25\\Week 4\\test_data.csv\") \n"
   ]
  },
  {
   "cell_type": "code",
   "execution_count": 3,
   "id": "e9d51d0a-97d0-46b4-818a-7a416db11324",
   "metadata": {},
   "outputs": [
    {
     "data": {
      "text/html": [
       "<div>\n",
       "<style scoped>\n",
       "    .dataframe tbody tr th:only-of-type {\n",
       "        vertical-align: middle;\n",
       "    }\n",
       "\n",
       "    .dataframe tbody tr th {\n",
       "        vertical-align: top;\n",
       "    }\n",
       "\n",
       "    .dataframe thead th {\n",
       "        text-align: right;\n",
       "    }\n",
       "</style>\n",
       "<table border=\"1\" class=\"dataframe\">\n",
       "  <thead>\n",
       "    <tr style=\"text-align: right;\">\n",
       "      <th></th>\n",
       "      <th>SEQN</th>\n",
       "      <th>RIDAGEYR</th>\n",
       "      <th>RIAGENDR</th>\n",
       "      <th>PAQ605</th>\n",
       "      <th>BMXBMI</th>\n",
       "      <th>LBXGLU</th>\n",
       "      <th>DIQ010</th>\n",
       "      <th>LBXGLT</th>\n",
       "      <th>LBXIN</th>\n",
       "    </tr>\n",
       "  </thead>\n",
       "  <tbody>\n",
       "    <tr>\n",
       "      <th>0</th>\n",
       "      <td>77017.0</td>\n",
       "      <td>34.0</td>\n",
       "      <td>1.0</td>\n",
       "      <td>1.0</td>\n",
       "      <td>32.2</td>\n",
       "      <td>96.0</td>\n",
       "      <td>2.0</td>\n",
       "      <td>135.0</td>\n",
       "      <td>15.11</td>\n",
       "    </tr>\n",
       "    <tr>\n",
       "      <th>1</th>\n",
       "      <td>75580.0</td>\n",
       "      <td>12.0</td>\n",
       "      <td>2.0</td>\n",
       "      <td>2.0</td>\n",
       "      <td>26.3</td>\n",
       "      <td>100.0</td>\n",
       "      <td>2.0</td>\n",
       "      <td>141.0</td>\n",
       "      <td>15.26</td>\n",
       "    </tr>\n",
       "    <tr>\n",
       "      <th>2</th>\n",
       "      <td>73820.0</td>\n",
       "      <td>56.0</td>\n",
       "      <td>1.0</td>\n",
       "      <td>2.0</td>\n",
       "      <td>28.6</td>\n",
       "      <td>107.0</td>\n",
       "      <td>2.0</td>\n",
       "      <td>136.0</td>\n",
       "      <td>8.82</td>\n",
       "    </tr>\n",
       "    <tr>\n",
       "      <th>3</th>\n",
       "      <td>80489.0</td>\n",
       "      <td>20.0</td>\n",
       "      <td>2.0</td>\n",
       "      <td>1.0</td>\n",
       "      <td>22.1</td>\n",
       "      <td>93.0</td>\n",
       "      <td>2.0</td>\n",
       "      <td>111.0</td>\n",
       "      <td>12.13</td>\n",
       "    </tr>\n",
       "    <tr>\n",
       "      <th>4</th>\n",
       "      <td>82047.0</td>\n",
       "      <td>64.0</td>\n",
       "      <td>1.0</td>\n",
       "      <td>1.0</td>\n",
       "      <td>24.7</td>\n",
       "      <td>91.0</td>\n",
       "      <td>2.0</td>\n",
       "      <td>105.0</td>\n",
       "      <td>3.12</td>\n",
       "    </tr>\n",
       "    <tr>\n",
       "      <th>...</th>\n",
       "      <td>...</td>\n",
       "      <td>...</td>\n",
       "      <td>...</td>\n",
       "      <td>...</td>\n",
       "      <td>...</td>\n",
       "      <td>...</td>\n",
       "      <td>...</td>\n",
       "      <td>...</td>\n",
       "      <td>...</td>\n",
       "    </tr>\n",
       "    <tr>\n",
       "      <th>95</th>\n",
       "      <td>78522.0</td>\n",
       "      <td>51.0</td>\n",
       "      <td>2.0</td>\n",
       "      <td>2.0</td>\n",
       "      <td>29.4</td>\n",
       "      <td>117.0</td>\n",
       "      <td>2.0</td>\n",
       "      <td>233.0</td>\n",
       "      <td>14.55</td>\n",
       "    </tr>\n",
       "    <tr>\n",
       "      <th>96</th>\n",
       "      <td>82441.0</td>\n",
       "      <td>80.0</td>\n",
       "      <td>2.0</td>\n",
       "      <td>2.0</td>\n",
       "      <td>27.6</td>\n",
       "      <td>121.0</td>\n",
       "      <td>2.0</td>\n",
       "      <td>104.0</td>\n",
       "      <td>2.31</td>\n",
       "    </tr>\n",
       "    <tr>\n",
       "      <th>97</th>\n",
       "      <td>81830.0</td>\n",
       "      <td>39.0</td>\n",
       "      <td>1.0</td>\n",
       "      <td>1.0</td>\n",
       "      <td>23.9</td>\n",
       "      <td>96.0</td>\n",
       "      <td>2.0</td>\n",
       "      <td>77.0</td>\n",
       "      <td>3.52</td>\n",
       "    </tr>\n",
       "    <tr>\n",
       "      <th>98</th>\n",
       "      <td>79821.0</td>\n",
       "      <td>55.0</td>\n",
       "      <td>1.0</td>\n",
       "      <td>2.0</td>\n",
       "      <td>26.7</td>\n",
       "      <td>94.0</td>\n",
       "      <td>2.0</td>\n",
       "      <td>109.0</td>\n",
       "      <td>4.24</td>\n",
       "    </tr>\n",
       "    <tr>\n",
       "      <th>99</th>\n",
       "      <td>75265.0</td>\n",
       "      <td>16.0</td>\n",
       "      <td>2.0</td>\n",
       "      <td>2.0</td>\n",
       "      <td>19.3</td>\n",
       "      <td>87.0</td>\n",
       "      <td>2.0</td>\n",
       "      <td>104.0</td>\n",
       "      <td>5.52</td>\n",
       "    </tr>\n",
       "  </tbody>\n",
       "</table>\n",
       "<p>100 rows × 9 columns</p>\n",
       "</div>"
      ],
      "text/plain": [
       "       SEQN  RIDAGEYR  RIAGENDR  PAQ605  BMXBMI  LBXGLU  DIQ010  LBXGLT  LBXIN\n",
       "0   77017.0      34.0       1.0     1.0    32.2    96.0     2.0   135.0  15.11\n",
       "1   75580.0      12.0       2.0     2.0    26.3   100.0     2.0   141.0  15.26\n",
       "2   73820.0      56.0       1.0     2.0    28.6   107.0     2.0   136.0   8.82\n",
       "3   80489.0      20.0       2.0     1.0    22.1    93.0     2.0   111.0  12.13\n",
       "4   82047.0      64.0       1.0     1.0    24.7    91.0     2.0   105.0   3.12\n",
       "..      ...       ...       ...     ...     ...     ...     ...     ...    ...\n",
       "95  78522.0      51.0       2.0     2.0    29.4   117.0     2.0   233.0  14.55\n",
       "96  82441.0      80.0       2.0     2.0    27.6   121.0     2.0   104.0   2.31\n",
       "97  81830.0      39.0       1.0     1.0    23.9    96.0     2.0    77.0   3.52\n",
       "98  79821.0      55.0       1.0     2.0    26.7    94.0     2.0   109.0   4.24\n",
       "99  75265.0      16.0       2.0     2.0    19.3    87.0     2.0   104.0   5.52\n",
       "\n",
       "[100 rows x 9 columns]"
      ]
     },
     "execution_count": 3,
     "metadata": {},
     "output_type": "execute_result"
    }
   ],
   "source": [
    "test.head(100)"
   ]
  },
  {
   "cell_type": "code",
   "execution_count": 4,
   "id": "ad420c5f-d8c3-4d0e-b4f5-691588746b44",
   "metadata": {
    "scrolled": true
   },
   "outputs": [
    {
     "data": {
      "text/plain": [
       "SEQN         12\n",
       "RIDAGEYR      9\n",
       "RIAGENDR     18\n",
       "PAQ605       13\n",
       "BMXBMI       18\n",
       "LBXGLU       13\n",
       "DIQ010       18\n",
       "LBXGLT       11\n",
       "LBXIN         9\n",
       "age_group    14\n",
       "dtype: int64"
      ]
     },
     "execution_count": 4,
     "metadata": {},
     "output_type": "execute_result"
    }
   ],
   "source": [
    "train.isna().sum()"
   ]
  },
  {
   "cell_type": "code",
   "execution_count": 5,
   "id": "cce4dd39-e664-45d9-9d92-90f8099b9908",
   "metadata": {},
   "outputs": [],
   "source": [
    "# train.drop('RIDAGEYR', axis= 'columns',inplace=True)"
   ]
  },
  {
   "cell_type": "code",
   "execution_count": 6,
   "id": "4dd663eb-4950-4bb4-9c97-ce6c24effe4c",
   "metadata": {},
   "outputs": [
    {
     "data": {
      "text/html": [
       "<div>\n",
       "<style scoped>\n",
       "    .dataframe tbody tr th:only-of-type {\n",
       "        vertical-align: middle;\n",
       "    }\n",
       "\n",
       "    .dataframe tbody tr th {\n",
       "        vertical-align: top;\n",
       "    }\n",
       "\n",
       "    .dataframe thead th {\n",
       "        text-align: right;\n",
       "    }\n",
       "</style>\n",
       "<table border=\"1\" class=\"dataframe\">\n",
       "  <thead>\n",
       "    <tr style=\"text-align: right;\">\n",
       "      <th></th>\n",
       "      <th>SEQN</th>\n",
       "      <th>RIDAGEYR</th>\n",
       "      <th>RIAGENDR</th>\n",
       "      <th>PAQ605</th>\n",
       "      <th>BMXBMI</th>\n",
       "      <th>LBXGLU</th>\n",
       "      <th>DIQ010</th>\n",
       "      <th>LBXGLT</th>\n",
       "      <th>LBXIN</th>\n",
       "      <th>age_group</th>\n",
       "    </tr>\n",
       "  </thead>\n",
       "  <tbody>\n",
       "    <tr>\n",
       "      <th>0</th>\n",
       "      <td>73564.0</td>\n",
       "      <td>61.0</td>\n",
       "      <td>2.0</td>\n",
       "      <td>2.0</td>\n",
       "      <td>35.7</td>\n",
       "      <td>110.0</td>\n",
       "      <td>2.0</td>\n",
       "      <td>150.0</td>\n",
       "      <td>14.91</td>\n",
       "      <td>Adult</td>\n",
       "    </tr>\n",
       "    <tr>\n",
       "      <th>1</th>\n",
       "      <td>73568.0</td>\n",
       "      <td>26.0</td>\n",
       "      <td>2.0</td>\n",
       "      <td>2.0</td>\n",
       "      <td>20.3</td>\n",
       "      <td>89.0</td>\n",
       "      <td>2.0</td>\n",
       "      <td>80.0</td>\n",
       "      <td>3.85</td>\n",
       "      <td>Adult</td>\n",
       "    </tr>\n",
       "    <tr>\n",
       "      <th>2</th>\n",
       "      <td>73576.0</td>\n",
       "      <td>16.0</td>\n",
       "      <td>1.0</td>\n",
       "      <td>2.0</td>\n",
       "      <td>23.2</td>\n",
       "      <td>89.0</td>\n",
       "      <td>2.0</td>\n",
       "      <td>68.0</td>\n",
       "      <td>6.14</td>\n",
       "      <td>Adult</td>\n",
       "    </tr>\n",
       "    <tr>\n",
       "      <th>3</th>\n",
       "      <td>73577.0</td>\n",
       "      <td>32.0</td>\n",
       "      <td>1.0</td>\n",
       "      <td>2.0</td>\n",
       "      <td>28.9</td>\n",
       "      <td>104.0</td>\n",
       "      <td>NaN</td>\n",
       "      <td>84.0</td>\n",
       "      <td>16.15</td>\n",
       "      <td>Adult</td>\n",
       "    </tr>\n",
       "    <tr>\n",
       "      <th>4</th>\n",
       "      <td>73580.0</td>\n",
       "      <td>38.0</td>\n",
       "      <td>2.0</td>\n",
       "      <td>1.0</td>\n",
       "      <td>35.9</td>\n",
       "      <td>103.0</td>\n",
       "      <td>2.0</td>\n",
       "      <td>81.0</td>\n",
       "      <td>10.92</td>\n",
       "      <td>Adult</td>\n",
       "    </tr>\n",
       "  </tbody>\n",
       "</table>\n",
       "</div>"
      ],
      "text/plain": [
       "      SEQN  RIDAGEYR  RIAGENDR  PAQ605  BMXBMI  LBXGLU  DIQ010  LBXGLT  LBXIN  \\\n",
       "0  73564.0      61.0       2.0     2.0    35.7   110.0     2.0   150.0  14.91   \n",
       "1  73568.0      26.0       2.0     2.0    20.3    89.0     2.0    80.0   3.85   \n",
       "2  73576.0      16.0       1.0     2.0    23.2    89.0     2.0    68.0   6.14   \n",
       "3  73577.0      32.0       1.0     2.0    28.9   104.0     NaN    84.0  16.15   \n",
       "4  73580.0      38.0       2.0     1.0    35.9   103.0     2.0    81.0  10.92   \n",
       "\n",
       "  age_group  \n",
       "0     Adult  \n",
       "1     Adult  \n",
       "2     Adult  \n",
       "3     Adult  \n",
       "4     Adult  "
      ]
     },
     "execution_count": 6,
     "metadata": {},
     "output_type": "execute_result"
    }
   ],
   "source": [
    "train.head()"
   ]
  },
  {
   "cell_type": "code",
   "execution_count": 7,
   "id": "d750afef-66f6-4013-a52e-16b8aa75ccef",
   "metadata": {},
   "outputs": [
    {
     "data": {
      "text/plain": [
       "SEQN         12\n",
       "RIDAGEYR      9\n",
       "RIAGENDR     18\n",
       "PAQ605       13\n",
       "BMXBMI       18\n",
       "LBXGLU       13\n",
       "DIQ010       18\n",
       "LBXGLT       11\n",
       "LBXIN         9\n",
       "age_group    14\n",
       "dtype: int64"
      ]
     },
     "execution_count": 7,
     "metadata": {},
     "output_type": "execute_result"
    }
   ],
   "source": [
    "train.isna().sum()"
   ]
  },
  {
   "cell_type": "code",
   "execution_count": 8,
   "id": "f8918ebe-6db7-4847-bf8e-ada8a199546c",
   "metadata": {},
   "outputs": [
    {
     "data": {
      "text/plain": [
       "SEQN          0\n",
       "RIDAGEYR      9\n",
       "RIAGENDR     18\n",
       "PAQ605       13\n",
       "BMXBMI       18\n",
       "LBXGLU       13\n",
       "DIQ010       18\n",
       "LBXGLT       11\n",
       "LBXIN         9\n",
       "age_group    14\n",
       "dtype: int64"
      ]
     },
     "execution_count": 8,
     "metadata": {},
     "output_type": "execute_result"
    }
   ],
   "source": [
    "median_seqn = train.SEQN.median()\n",
    "train.SEQN = train.SEQN.fillna(median_seqn)\n",
    "train.isna().sum()"
   ]
  },
  {
   "cell_type": "code",
   "execution_count": 9,
   "id": "44595677-d710-45e3-84ae-46047e4c01e9",
   "metadata": {},
   "outputs": [
    {
     "data": {
      "text/plain": [
       "SEQN          0\n",
       "RIDAGEYR      9\n",
       "RIAGENDR      0\n",
       "PAQ605       13\n",
       "BMXBMI       18\n",
       "LBXGLU       13\n",
       "DIQ010       18\n",
       "LBXGLT       11\n",
       "LBXIN         9\n",
       "age_group    14\n",
       "dtype: int64"
      ]
     },
     "execution_count": 9,
     "metadata": {},
     "output_type": "execute_result"
    }
   ],
   "source": [
    "median_gend = train.RIAGENDR.median()\n",
    "train.RIAGENDR = train.RIAGENDR.fillna(median_gend)\n",
    "train.isna().sum()"
   ]
  },
  {
   "cell_type": "code",
   "execution_count": 10,
   "id": "d38d84ea-668c-4c13-8304-e87bff26add7",
   "metadata": {},
   "outputs": [
    {
     "data": {
      "text/plain": [
       "SEQN          0\n",
       "RIDAGEYR      9\n",
       "RIAGENDR      0\n",
       "PAQ605        0\n",
       "BMXBMI       18\n",
       "LBXGLU       13\n",
       "DIQ010       18\n",
       "LBXGLT       11\n",
       "LBXIN         9\n",
       "age_group    14\n",
       "dtype: int64"
      ]
     },
     "execution_count": 10,
     "metadata": {},
     "output_type": "execute_result"
    }
   ],
   "source": [
    "paq605_avg = train.PAQ605.loc[train.age_group == 'Senior'].mean()\n",
    "train.PAQ605 = train.PAQ605.fillna(paq605_avg)\n",
    "train.isna().sum()\n"
   ]
  },
  {
   "cell_type": "code",
   "execution_count": 11,
   "id": "73267228-a86f-4725-819f-ac8eb6b85031",
   "metadata": {},
   "outputs": [
    {
     "data": {
      "text/plain": [
       "SEQN          0\n",
       "RIDAGEYR      9\n",
       "RIAGENDR      0\n",
       "PAQ605        0\n",
       "BMXBMI        0\n",
       "LBXGLU       13\n",
       "DIQ010       18\n",
       "LBXGLT       11\n",
       "LBXIN         9\n",
       "age_group    14\n",
       "dtype: int64"
      ]
     },
     "execution_count": 11,
     "metadata": {},
     "output_type": "execute_result"
    }
   ],
   "source": [
    "bmi_mean = train.BMXBMI.mean()\n",
    "train.BMXBMI = train.BMXBMI.fillna(bmi_mean)\n",
    "train.isna().sum()"
   ]
  },
  {
   "cell_type": "code",
   "execution_count": 12,
   "id": "2c9817a7-42df-49b6-bce6-297b753b8fec",
   "metadata": {},
   "outputs": [
    {
     "data": {
      "text/html": [
       "<div>\n",
       "<style scoped>\n",
       "    .dataframe tbody tr th:only-of-type {\n",
       "        vertical-align: middle;\n",
       "    }\n",
       "\n",
       "    .dataframe tbody tr th {\n",
       "        vertical-align: top;\n",
       "    }\n",
       "\n",
       "    .dataframe thead th {\n",
       "        text-align: right;\n",
       "    }\n",
       "</style>\n",
       "<table border=\"1\" class=\"dataframe\">\n",
       "  <thead>\n",
       "    <tr style=\"text-align: right;\">\n",
       "      <th></th>\n",
       "      <th>SEQN</th>\n",
       "      <th>RIDAGEYR</th>\n",
       "      <th>RIAGENDR</th>\n",
       "      <th>PAQ605</th>\n",
       "      <th>BMXBMI</th>\n",
       "      <th>LBXGLU</th>\n",
       "      <th>DIQ010</th>\n",
       "      <th>LBXGLT</th>\n",
       "      <th>LBXIN</th>\n",
       "      <th>age_group</th>\n",
       "    </tr>\n",
       "  </thead>\n",
       "  <tbody>\n",
       "    <tr>\n",
       "      <th>0</th>\n",
       "      <td>73564.0</td>\n",
       "      <td>61.0</td>\n",
       "      <td>2.0</td>\n",
       "      <td>2.0</td>\n",
       "      <td>35.7</td>\n",
       "      <td>110.0</td>\n",
       "      <td>2.0</td>\n",
       "      <td>150.0</td>\n",
       "      <td>14.91</td>\n",
       "      <td>Adult</td>\n",
       "    </tr>\n",
       "    <tr>\n",
       "      <th>1</th>\n",
       "      <td>73568.0</td>\n",
       "      <td>26.0</td>\n",
       "      <td>2.0</td>\n",
       "      <td>2.0</td>\n",
       "      <td>20.3</td>\n",
       "      <td>89.0</td>\n",
       "      <td>2.0</td>\n",
       "      <td>80.0</td>\n",
       "      <td>3.85</td>\n",
       "      <td>Adult</td>\n",
       "    </tr>\n",
       "    <tr>\n",
       "      <th>2</th>\n",
       "      <td>73576.0</td>\n",
       "      <td>16.0</td>\n",
       "      <td>1.0</td>\n",
       "      <td>2.0</td>\n",
       "      <td>23.2</td>\n",
       "      <td>89.0</td>\n",
       "      <td>2.0</td>\n",
       "      <td>68.0</td>\n",
       "      <td>6.14</td>\n",
       "      <td>Adult</td>\n",
       "    </tr>\n",
       "    <tr>\n",
       "      <th>3</th>\n",
       "      <td>73577.0</td>\n",
       "      <td>32.0</td>\n",
       "      <td>1.0</td>\n",
       "      <td>2.0</td>\n",
       "      <td>28.9</td>\n",
       "      <td>104.0</td>\n",
       "      <td>NaN</td>\n",
       "      <td>84.0</td>\n",
       "      <td>16.15</td>\n",
       "      <td>Adult</td>\n",
       "    </tr>\n",
       "    <tr>\n",
       "      <th>4</th>\n",
       "      <td>73580.0</td>\n",
       "      <td>38.0</td>\n",
       "      <td>2.0</td>\n",
       "      <td>1.0</td>\n",
       "      <td>35.9</td>\n",
       "      <td>103.0</td>\n",
       "      <td>2.0</td>\n",
       "      <td>81.0</td>\n",
       "      <td>10.92</td>\n",
       "      <td>Adult</td>\n",
       "    </tr>\n",
       "    <tr>\n",
       "      <th>5</th>\n",
       "      <td>73581.0</td>\n",
       "      <td>50.0</td>\n",
       "      <td>1.0</td>\n",
       "      <td>2.0</td>\n",
       "      <td>23.6</td>\n",
       "      <td>110.0</td>\n",
       "      <td>2.0</td>\n",
       "      <td>100.0</td>\n",
       "      <td>6.08</td>\n",
       "      <td>Adult</td>\n",
       "    </tr>\n",
       "    <tr>\n",
       "      <th>6</th>\n",
       "      <td>73587.0</td>\n",
       "      <td>14.0</td>\n",
       "      <td>1.0</td>\n",
       "      <td>2.0</td>\n",
       "      <td>38.7</td>\n",
       "      <td>94.0</td>\n",
       "      <td>2.0</td>\n",
       "      <td>202.0</td>\n",
       "      <td>21.11</td>\n",
       "      <td>Adult</td>\n",
       "    </tr>\n",
       "    <tr>\n",
       "      <th>7</th>\n",
       "      <td>73596.0</td>\n",
       "      <td>57.0</td>\n",
       "      <td>2.0</td>\n",
       "      <td>2.0</td>\n",
       "      <td>38.3</td>\n",
       "      <td>107.0</td>\n",
       "      <td>2.0</td>\n",
       "      <td>164.0</td>\n",
       "      <td>20.93</td>\n",
       "      <td>Adult</td>\n",
       "    </tr>\n",
       "    <tr>\n",
       "      <th>8</th>\n",
       "      <td>73607.0</td>\n",
       "      <td>75.0</td>\n",
       "      <td>1.0</td>\n",
       "      <td>2.0</td>\n",
       "      <td>38.9</td>\n",
       "      <td>89.0</td>\n",
       "      <td>2.0</td>\n",
       "      <td>113.0</td>\n",
       "      <td>17.47</td>\n",
       "      <td>Senior</td>\n",
       "    </tr>\n",
       "    <tr>\n",
       "      <th>9</th>\n",
       "      <td>73610.0</td>\n",
       "      <td>43.0</td>\n",
       "      <td>1.0</td>\n",
       "      <td>1.0</td>\n",
       "      <td>28.9</td>\n",
       "      <td>90.0</td>\n",
       "      <td>2.0</td>\n",
       "      <td>95.0</td>\n",
       "      <td>3.24</td>\n",
       "      <td>Adult</td>\n",
       "    </tr>\n",
       "    <tr>\n",
       "      <th>10</th>\n",
       "      <td>73618.0</td>\n",
       "      <td>54.0</td>\n",
       "      <td>2.0</td>\n",
       "      <td>2.0</td>\n",
       "      <td>32.7</td>\n",
       "      <td>98.0</td>\n",
       "      <td>2.0</td>\n",
       "      <td>80.0</td>\n",
       "      <td>7.16</td>\n",
       "      <td>Adult</td>\n",
       "    </tr>\n",
       "    <tr>\n",
       "      <th>11</th>\n",
       "      <td>73619.0</td>\n",
       "      <td>36.0</td>\n",
       "      <td>2.0</td>\n",
       "      <td>1.0</td>\n",
       "      <td>27.3</td>\n",
       "      <td>85.0</td>\n",
       "      <td>2.0</td>\n",
       "      <td>91.0</td>\n",
       "      <td>9.86</td>\n",
       "      <td>Adult</td>\n",
       "    </tr>\n",
       "    <tr>\n",
       "      <th>12</th>\n",
       "      <td>73621.0</td>\n",
       "      <td>80.0</td>\n",
       "      <td>1.0</td>\n",
       "      <td>2.0</td>\n",
       "      <td>24.6</td>\n",
       "      <td>100.0</td>\n",
       "      <td>2.0</td>\n",
       "      <td>97.0</td>\n",
       "      <td>4.33</td>\n",
       "      <td>Senior</td>\n",
       "    </tr>\n",
       "    <tr>\n",
       "      <th>13</th>\n",
       "      <td>73633.0</td>\n",
       "      <td>43.0</td>\n",
       "      <td>2.0</td>\n",
       "      <td>2.0</td>\n",
       "      <td>30.5</td>\n",
       "      <td>102.0</td>\n",
       "      <td>2.0</td>\n",
       "      <td>124.0</td>\n",
       "      <td>12.06</td>\n",
       "      <td>Adult</td>\n",
       "    </tr>\n",
       "    <tr>\n",
       "      <th>14</th>\n",
       "      <td>73639.0</td>\n",
       "      <td>71.0</td>\n",
       "      <td>1.0</td>\n",
       "      <td>2.0</td>\n",
       "      <td>30.3</td>\n",
       "      <td>133.0</td>\n",
       "      <td>2.0</td>\n",
       "      <td>295.0</td>\n",
       "      <td>22.92</td>\n",
       "      <td>Senior</td>\n",
       "    </tr>\n",
       "  </tbody>\n",
       "</table>\n",
       "</div>"
      ],
      "text/plain": [
       "       SEQN  RIDAGEYR  RIAGENDR  PAQ605  BMXBMI  LBXGLU  DIQ010  LBXGLT  \\\n",
       "0   73564.0      61.0       2.0     2.0    35.7   110.0     2.0   150.0   \n",
       "1   73568.0      26.0       2.0     2.0    20.3    89.0     2.0    80.0   \n",
       "2   73576.0      16.0       1.0     2.0    23.2    89.0     2.0    68.0   \n",
       "3   73577.0      32.0       1.0     2.0    28.9   104.0     NaN    84.0   \n",
       "4   73580.0      38.0       2.0     1.0    35.9   103.0     2.0    81.0   \n",
       "5   73581.0      50.0       1.0     2.0    23.6   110.0     2.0   100.0   \n",
       "6   73587.0      14.0       1.0     2.0    38.7    94.0     2.0   202.0   \n",
       "7   73596.0      57.0       2.0     2.0    38.3   107.0     2.0   164.0   \n",
       "8   73607.0      75.0       1.0     2.0    38.9    89.0     2.0   113.0   \n",
       "9   73610.0      43.0       1.0     1.0    28.9    90.0     2.0    95.0   \n",
       "10  73618.0      54.0       2.0     2.0    32.7    98.0     2.0    80.0   \n",
       "11  73619.0      36.0       2.0     1.0    27.3    85.0     2.0    91.0   \n",
       "12  73621.0      80.0       1.0     2.0    24.6   100.0     2.0    97.0   \n",
       "13  73633.0      43.0       2.0     2.0    30.5   102.0     2.0   124.0   \n",
       "14  73639.0      71.0       1.0     2.0    30.3   133.0     2.0   295.0   \n",
       "\n",
       "    LBXIN age_group  \n",
       "0   14.91     Adult  \n",
       "1    3.85     Adult  \n",
       "2    6.14     Adult  \n",
       "3   16.15     Adult  \n",
       "4   10.92     Adult  \n",
       "5    6.08     Adult  \n",
       "6   21.11     Adult  \n",
       "7   20.93     Adult  \n",
       "8   17.47    Senior  \n",
       "9    3.24     Adult  \n",
       "10   7.16     Adult  \n",
       "11   9.86     Adult  \n",
       "12   4.33    Senior  \n",
       "13  12.06     Adult  \n",
       "14  22.92    Senior  "
      ]
     },
     "execution_count": 12,
     "metadata": {},
     "output_type": "execute_result"
    }
   ],
   "source": [
    "train.head(15)"
   ]
  },
  {
   "cell_type": "code",
   "execution_count": 13,
   "id": "46113d61-63ea-4957-aec5-4e2ee18b8fcb",
   "metadata": {},
   "outputs": [
    {
     "data": {
      "text/plain": [
       "SEQN          0\n",
       "RIDAGEYR      9\n",
       "RIAGENDR      0\n",
       "PAQ605        0\n",
       "BMXBMI        0\n",
       "LBXGLU        0\n",
       "DIQ010       18\n",
       "LBXGLT       11\n",
       "LBXIN         9\n",
       "age_group    14\n",
       "dtype: int64"
      ]
     },
     "execution_count": 13,
     "metadata": {},
     "output_type": "execute_result"
    }
   ],
   "source": [
    "glu_mean = train.LBXGLU.mean()\n",
    "train.LBXGLU = train.LBXGLU.fillna(glu_mean)\n",
    "train.isna().sum()"
   ]
  },
  {
   "cell_type": "code",
   "execution_count": 14,
   "id": "8deea2ff-0412-41a7-a5c9-ffa76e3697b0",
   "metadata": {},
   "outputs": [],
   "source": [
    "train['age_group'] = train['age_group'].fillna(train['RIDAGEYR'].apply(lambda age: 'Senior' if age >= 65 else 'Adult'))"
   ]
  },
  {
   "cell_type": "code",
   "execution_count": 15,
   "id": "10c6b3be-1099-43f2-9c61-32044ec3ffa3",
   "metadata": {},
   "outputs": [
    {
     "data": {
      "text/plain": [
       "SEQN          0\n",
       "RIDAGEYR      9\n",
       "RIAGENDR      0\n",
       "PAQ605        0\n",
       "BMXBMI        0\n",
       "LBXGLU        0\n",
       "DIQ010       18\n",
       "LBXGLT       11\n",
       "LBXIN         9\n",
       "age_group     0\n",
       "dtype: int64"
      ]
     },
     "execution_count": 15,
     "metadata": {},
     "output_type": "execute_result"
    }
   ],
   "source": [
    "train.isna().sum()"
   ]
  },
  {
   "cell_type": "code",
   "execution_count": 16,
   "id": "2d7414de-20b4-4bce-abe3-15411b3ce0a2",
   "metadata": {},
   "outputs": [
    {
     "data": {
      "text/html": [
       "<div>\n",
       "<style scoped>\n",
       "    .dataframe tbody tr th:only-of-type {\n",
       "        vertical-align: middle;\n",
       "    }\n",
       "\n",
       "    .dataframe tbody tr th {\n",
       "        vertical-align: top;\n",
       "    }\n",
       "\n",
       "    .dataframe thead th {\n",
       "        text-align: right;\n",
       "    }\n",
       "</style>\n",
       "<table border=\"1\" class=\"dataframe\">\n",
       "  <thead>\n",
       "    <tr style=\"text-align: right;\">\n",
       "      <th></th>\n",
       "      <th>SEQN</th>\n",
       "      <th>RIAGENDR</th>\n",
       "      <th>PAQ605</th>\n",
       "      <th>BMXBMI</th>\n",
       "      <th>LBXGLU</th>\n",
       "      <th>DIQ010</th>\n",
       "      <th>LBXGLT</th>\n",
       "      <th>LBXIN</th>\n",
       "      <th>age_group</th>\n",
       "    </tr>\n",
       "  </thead>\n",
       "  <tbody>\n",
       "    <tr>\n",
       "      <th>0</th>\n",
       "      <td>73564.0</td>\n",
       "      <td>2.0</td>\n",
       "      <td>2.0</td>\n",
       "      <td>35.7</td>\n",
       "      <td>110.0</td>\n",
       "      <td>2.0</td>\n",
       "      <td>150.0</td>\n",
       "      <td>14.91</td>\n",
       "      <td>Adult</td>\n",
       "    </tr>\n",
       "    <tr>\n",
       "      <th>1</th>\n",
       "      <td>73568.0</td>\n",
       "      <td>2.0</td>\n",
       "      <td>2.0</td>\n",
       "      <td>20.3</td>\n",
       "      <td>89.0</td>\n",
       "      <td>2.0</td>\n",
       "      <td>80.0</td>\n",
       "      <td>3.85</td>\n",
       "      <td>Adult</td>\n",
       "    </tr>\n",
       "    <tr>\n",
       "      <th>2</th>\n",
       "      <td>73576.0</td>\n",
       "      <td>1.0</td>\n",
       "      <td>2.0</td>\n",
       "      <td>23.2</td>\n",
       "      <td>89.0</td>\n",
       "      <td>2.0</td>\n",
       "      <td>68.0</td>\n",
       "      <td>6.14</td>\n",
       "      <td>Adult</td>\n",
       "    </tr>\n",
       "    <tr>\n",
       "      <th>3</th>\n",
       "      <td>73577.0</td>\n",
       "      <td>1.0</td>\n",
       "      <td>2.0</td>\n",
       "      <td>28.9</td>\n",
       "      <td>104.0</td>\n",
       "      <td>NaN</td>\n",
       "      <td>84.0</td>\n",
       "      <td>16.15</td>\n",
       "      <td>Adult</td>\n",
       "    </tr>\n",
       "    <tr>\n",
       "      <th>4</th>\n",
       "      <td>73580.0</td>\n",
       "      <td>2.0</td>\n",
       "      <td>1.0</td>\n",
       "      <td>35.9</td>\n",
       "      <td>103.0</td>\n",
       "      <td>2.0</td>\n",
       "      <td>81.0</td>\n",
       "      <td>10.92</td>\n",
       "      <td>Adult</td>\n",
       "    </tr>\n",
       "  </tbody>\n",
       "</table>\n",
       "</div>"
      ],
      "text/plain": [
       "      SEQN  RIAGENDR  PAQ605  BMXBMI  LBXGLU  DIQ010  LBXGLT  LBXIN age_group\n",
       "0  73564.0       2.0     2.0    35.7   110.0     2.0   150.0  14.91     Adult\n",
       "1  73568.0       2.0     2.0    20.3    89.0     2.0    80.0   3.85     Adult\n",
       "2  73576.0       1.0     2.0    23.2    89.0     2.0    68.0   6.14     Adult\n",
       "3  73577.0       1.0     2.0    28.9   104.0     NaN    84.0  16.15     Adult\n",
       "4  73580.0       2.0     1.0    35.9   103.0     2.0    81.0  10.92     Adult"
      ]
     },
     "execution_count": 16,
     "metadata": {},
     "output_type": "execute_result"
    }
   ],
   "source": [
    "train = train.drop('RIDAGEYR', axis='columns')\n",
    "train.head()"
   ]
  },
  {
   "cell_type": "code",
   "execution_count": 17,
   "id": "0663303d-d327-47a0-af3e-6a370bd31020",
   "metadata": {},
   "outputs": [
    {
     "data": {
      "text/plain": [
       "DIQ010\n",
       "2.0    292\n",
       "3.0     17\n",
       "1.0      8\n",
       "Name: count, dtype: int64"
      ]
     },
     "execution_count": 17,
     "metadata": {},
     "output_type": "execute_result"
    }
   ],
   "source": [
    "train.DIQ010.loc[train.age_group == 'Senior'].value_counts()"
   ]
  },
  {
   "cell_type": "code",
   "execution_count": 18,
   "id": "ab7345c0-e6aa-4f9c-927b-1a220ba37d8f",
   "metadata": {},
   "outputs": [
    {
     "data": {
      "text/plain": [
       "SEQN          0\n",
       "RIAGENDR      0\n",
       "PAQ605        0\n",
       "BMXBMI        0\n",
       "LBXGLU        0\n",
       "DIQ010        0\n",
       "LBXGLT       11\n",
       "LBXIN         9\n",
       "age_group     0\n",
       "dtype: int64"
      ]
     },
     "execution_count": 18,
     "metadata": {},
     "output_type": "execute_result"
    }
   ],
   "source": [
    "train.DIQ010 = train.DIQ010.fillna(train.DIQ010.median())\n",
    "train.isna().sum()"
   ]
  },
  {
   "cell_type": "code",
   "execution_count": 19,
   "id": "449e0fbf-d733-4aad-873e-6e9bfc51ef4f",
   "metadata": {},
   "outputs": [
    {
     "data": {
      "text/plain": [
       "SEQN         0\n",
       "RIAGENDR     0\n",
       "PAQ605       0\n",
       "BMXBMI       0\n",
       "LBXGLU       0\n",
       "DIQ010       0\n",
       "LBXGLT       0\n",
       "LBXIN        9\n",
       "age_group    0\n",
       "dtype: int64"
      ]
     },
     "execution_count": 19,
     "metadata": {},
     "output_type": "execute_result"
    }
   ],
   "source": [
    "train.LBXGLT=train.LBXGLT.fillna(train.LBXGLT.median())\n",
    "train.isna().sum()"
   ]
  },
  {
   "cell_type": "code",
   "execution_count": 20,
   "id": "e7c53bc3-80bb-4135-85c1-f96e07f2589d",
   "metadata": {},
   "outputs": [],
   "source": [
    "insu_mean = train.LBXIN.loc[train.age_group=='Senior'].value_counts().mean()"
   ]
  },
  {
   "cell_type": "code",
   "execution_count": 21,
   "id": "177e9a66-ea5c-4156-afa7-cd5e3d697f38",
   "metadata": {},
   "outputs": [
    {
     "data": {
      "text/plain": [
       "SEQN         0\n",
       "RIAGENDR     0\n",
       "PAQ605       0\n",
       "BMXBMI       0\n",
       "LBXGLU       0\n",
       "DIQ010       0\n",
       "LBXGLT       0\n",
       "LBXIN        0\n",
       "age_group    0\n",
       "dtype: int64"
      ]
     },
     "execution_count": 21,
     "metadata": {},
     "output_type": "execute_result"
    }
   ],
   "source": [
    "train.LBXIN = train.LBXIN.fillna(insu_mean)\n",
    "train.isna().sum()"
   ]
  },
  {
   "cell_type": "code",
   "execution_count": 22,
   "id": "c147e407-b43a-457e-828a-c7886f0c2b77",
   "metadata": {},
   "outputs": [
    {
     "data": {
      "text/html": [
       "<div>\n",
       "<style scoped>\n",
       "    .dataframe tbody tr th:only-of-type {\n",
       "        vertical-align: middle;\n",
       "    }\n",
       "\n",
       "    .dataframe tbody tr th {\n",
       "        vertical-align: top;\n",
       "    }\n",
       "\n",
       "    .dataframe thead th {\n",
       "        text-align: right;\n",
       "    }\n",
       "</style>\n",
       "<table border=\"1\" class=\"dataframe\">\n",
       "  <thead>\n",
       "    <tr style=\"text-align: right;\">\n",
       "      <th></th>\n",
       "      <th>SEQN</th>\n",
       "      <th>RIAGENDR</th>\n",
       "      <th>PAQ605</th>\n",
       "      <th>BMXBMI</th>\n",
       "      <th>LBXGLU</th>\n",
       "      <th>DIQ010</th>\n",
       "      <th>LBXGLT</th>\n",
       "      <th>LBXIN</th>\n",
       "      <th>age_group</th>\n",
       "    </tr>\n",
       "  </thead>\n",
       "  <tbody>\n",
       "    <tr>\n",
       "      <th>0</th>\n",
       "      <td>73564.0</td>\n",
       "      <td>2.0</td>\n",
       "      <td>2.0</td>\n",
       "      <td>35.7</td>\n",
       "      <td>110.0</td>\n",
       "      <td>2.0</td>\n",
       "      <td>150.0</td>\n",
       "      <td>14.91</td>\n",
       "      <td>0</td>\n",
       "    </tr>\n",
       "    <tr>\n",
       "      <th>1</th>\n",
       "      <td>73568.0</td>\n",
       "      <td>2.0</td>\n",
       "      <td>2.0</td>\n",
       "      <td>20.3</td>\n",
       "      <td>89.0</td>\n",
       "      <td>2.0</td>\n",
       "      <td>80.0</td>\n",
       "      <td>3.85</td>\n",
       "      <td>0</td>\n",
       "    </tr>\n",
       "    <tr>\n",
       "      <th>2</th>\n",
       "      <td>73576.0</td>\n",
       "      <td>1.0</td>\n",
       "      <td>2.0</td>\n",
       "      <td>23.2</td>\n",
       "      <td>89.0</td>\n",
       "      <td>2.0</td>\n",
       "      <td>68.0</td>\n",
       "      <td>6.14</td>\n",
       "      <td>0</td>\n",
       "    </tr>\n",
       "    <tr>\n",
       "      <th>3</th>\n",
       "      <td>73577.0</td>\n",
       "      <td>1.0</td>\n",
       "      <td>2.0</td>\n",
       "      <td>28.9</td>\n",
       "      <td>104.0</td>\n",
       "      <td>2.0</td>\n",
       "      <td>84.0</td>\n",
       "      <td>16.15</td>\n",
       "      <td>0</td>\n",
       "    </tr>\n",
       "    <tr>\n",
       "      <th>4</th>\n",
       "      <td>73580.0</td>\n",
       "      <td>2.0</td>\n",
       "      <td>1.0</td>\n",
       "      <td>35.9</td>\n",
       "      <td>103.0</td>\n",
       "      <td>2.0</td>\n",
       "      <td>81.0</td>\n",
       "      <td>10.92</td>\n",
       "      <td>0</td>\n",
       "    </tr>\n",
       "  </tbody>\n",
       "</table>\n",
       "</div>"
      ],
      "text/plain": [
       "      SEQN  RIAGENDR  PAQ605  BMXBMI  LBXGLU  DIQ010  LBXGLT  LBXIN  age_group\n",
       "0  73564.0       2.0     2.0    35.7   110.0     2.0   150.0  14.91          0\n",
       "1  73568.0       2.0     2.0    20.3    89.0     2.0    80.0   3.85          0\n",
       "2  73576.0       1.0     2.0    23.2    89.0     2.0    68.0   6.14          0\n",
       "3  73577.0       1.0     2.0    28.9   104.0     2.0    84.0  16.15          0\n",
       "4  73580.0       2.0     1.0    35.9   103.0     2.0    81.0  10.92          0"
      ]
     },
     "execution_count": 22,
     "metadata": {},
     "output_type": "execute_result"
    }
   ],
   "source": [
    "train.age_group = train.age_group.map({'Adult': 0, 'Senior': 1})\n",
    "train.head()"
   ]
  },
  {
   "cell_type": "code",
   "execution_count": 23,
   "id": "53c02e93-b30f-4a78-8f46-537add79d755",
   "metadata": {},
   "outputs": [
    {
     "data": {
      "text/html": [
       "<div>\n",
       "<style scoped>\n",
       "    .dataframe tbody tr th:only-of-type {\n",
       "        vertical-align: middle;\n",
       "    }\n",
       "\n",
       "    .dataframe tbody tr th {\n",
       "        vertical-align: top;\n",
       "    }\n",
       "\n",
       "    .dataframe thead th {\n",
       "        text-align: right;\n",
       "    }\n",
       "</style>\n",
       "<table border=\"1\" class=\"dataframe\">\n",
       "  <thead>\n",
       "    <tr style=\"text-align: right;\">\n",
       "      <th></th>\n",
       "      <th>RIAGENDR</th>\n",
       "      <th>PAQ605</th>\n",
       "      <th>BMXBMI</th>\n",
       "      <th>LBXGLU</th>\n",
       "      <th>DIQ010</th>\n",
       "      <th>LBXGLT</th>\n",
       "      <th>LBXIN</th>\n",
       "      <th>age_group</th>\n",
       "    </tr>\n",
       "  </thead>\n",
       "  <tbody>\n",
       "    <tr>\n",
       "      <th>0</th>\n",
       "      <td>2.0</td>\n",
       "      <td>2.0</td>\n",
       "      <td>35.7</td>\n",
       "      <td>110.0</td>\n",
       "      <td>2.0</td>\n",
       "      <td>150.0</td>\n",
       "      <td>14.91</td>\n",
       "      <td>0</td>\n",
       "    </tr>\n",
       "    <tr>\n",
       "      <th>1</th>\n",
       "      <td>2.0</td>\n",
       "      <td>2.0</td>\n",
       "      <td>20.3</td>\n",
       "      <td>89.0</td>\n",
       "      <td>2.0</td>\n",
       "      <td>80.0</td>\n",
       "      <td>3.85</td>\n",
       "      <td>0</td>\n",
       "    </tr>\n",
       "    <tr>\n",
       "      <th>2</th>\n",
       "      <td>1.0</td>\n",
       "      <td>2.0</td>\n",
       "      <td>23.2</td>\n",
       "      <td>89.0</td>\n",
       "      <td>2.0</td>\n",
       "      <td>68.0</td>\n",
       "      <td>6.14</td>\n",
       "      <td>0</td>\n",
       "    </tr>\n",
       "    <tr>\n",
       "      <th>3</th>\n",
       "      <td>1.0</td>\n",
       "      <td>2.0</td>\n",
       "      <td>28.9</td>\n",
       "      <td>104.0</td>\n",
       "      <td>2.0</td>\n",
       "      <td>84.0</td>\n",
       "      <td>16.15</td>\n",
       "      <td>0</td>\n",
       "    </tr>\n",
       "    <tr>\n",
       "      <th>4</th>\n",
       "      <td>2.0</td>\n",
       "      <td>1.0</td>\n",
       "      <td>35.9</td>\n",
       "      <td>103.0</td>\n",
       "      <td>2.0</td>\n",
       "      <td>81.0</td>\n",
       "      <td>10.92</td>\n",
       "      <td>0</td>\n",
       "    </tr>\n",
       "  </tbody>\n",
       "</table>\n",
       "</div>"
      ],
      "text/plain": [
       "   RIAGENDR  PAQ605  BMXBMI  LBXGLU  DIQ010  LBXGLT  LBXIN  age_group\n",
       "0       2.0     2.0    35.7   110.0     2.0   150.0  14.91          0\n",
       "1       2.0     2.0    20.3    89.0     2.0    80.0   3.85          0\n",
       "2       1.0     2.0    23.2    89.0     2.0    68.0   6.14          0\n",
       "3       1.0     2.0    28.9   104.0     2.0    84.0  16.15          0\n",
       "4       2.0     1.0    35.9   103.0     2.0    81.0  10.92          0"
      ]
     },
     "execution_count": 23,
     "metadata": {},
     "output_type": "execute_result"
    }
   ],
   "source": [
    "train = train.drop('SEQN', axis='columns')\n",
    "train.head()"
   ]
  },
  {
   "cell_type": "code",
   "execution_count": 24,
   "id": "6b042a3e-374e-46c3-976a-ab3fca340ebe",
   "metadata": {},
   "outputs": [
    {
     "data": {
      "image/png": "[encoded data removed]",
      "text/plain": [
       "<Figure size 640x480 with 1 Axes>"
      ]
     },
     "metadata": {},
     "output_type": "display_data"
    }
   ],
   "source": [
    "import seaborn as sns\n",
    "import matplotlib.pyplot as plt\n",
    "# Plot target distribution\n",
    "sns.countplot(x='age_group', data=train)\n",
    "plt.title(\"Class Distribution (0=Adult, 1=Senior)\")\n",
    "plt.show()"
   ]
  },
  {
   "cell_type": "code",
   "execution_count": 25,
   "id": "2fbd0839-eeae-48cc-9aea-96d34b90d71f",
   "metadata": {},
   "outputs": [
    {
     "data": {
      "image/png": "[encoded data removed]",
      "text/plain": [
       "<Figure size 640x480 with 1 Axes>"
      ]
     },
     "metadata": {},
     "output_type": "display_data"
    },
    {
     "data": {
      "image/png": "[encoded data removed]",
      "text/plain": [
       "<Figure size 640x480 with 1 Axes>"
      ]
     },
     "metadata": {},
     "output_type": "display_data"
    },
    {
     "data": {
      "image/png": "[encoded data removed]",
      "text/plain": [
       "<Figure size 640x480 with 1 Axes>"
      ]
     },
     "metadata": {},
     "output_type": "display_data"
    },
    {
     "data": {
      "image/png": "[encoded data removed]",
      "text/plain": [
       "<Figure size 640x480 with 1 Axes>"
      ]
     },
     "metadata": {},
     "output_type": "display_data"
    }
   ],
   "source": [
    "# Compare distributions for Adults vs. Seniors\n",
    "numerical_cols = ['BMXBMI', 'LBXGLU', 'LBXGLT', 'LBXIN']\n",
    "for col in numerical_cols:\n",
    "    plt.figure()\n",
    "    sns.boxplot(x='age_group', y=col, data=train)\n",
    "    plt.title(f\"{col} by Age Group\")\n",
    "    plt.show()"
   ]
  },
  {
   "cell_type": "code",
   "execution_count": 26,
   "id": "a22915d7-1a36-4e65-a37a-2fcd7d9b263b",
   "metadata": {},
   "outputs": [],
   "source": [
    "from sklearn.model_selection import cross_val_score\n",
    "from sklearn.preprocessing import StandardScaler\n",
    "from sklearn.pipeline import make_pipeline\n",
    "import numpy as np\n",
    "from sklearn.linear_model import LogisticRegression\n",
    "from sklearn.svm import SVC\n",
    "from sklearn.tree import DecisionTreeClassifier\n",
    "from sklearn.ensemble import RandomForestClassifier\n",
    "\n",
    "x = train.drop('age_group', axis=1)\n",
    "y=train.age_group"
   ]
  },
  {
   "cell_type": "code",
   "execution_count": 27,
   "id": "550eddb2-5644-4e60-837c-5efd306c34a7",
   "metadata": {},
   "outputs": [],
   "source": [
    "# x = pd.get_dummies(x,columns=['RIAGENDR', 'PAQ605', 'DIQ010'])\n",
    "# print(x)"
   ]
  },
  {
   "cell_type": "code",
   "execution_count": 28,
   "id": "b0f1ee63-a086-49d9-8848-975dac2fd377",
   "metadata": {},
   "outputs": [
    {
     "name": "stdout",
     "output_type": "stream",
     "text": [
      "   RIAGENDR  PAQ605  DIQ010\n",
      "0       2.0     2.0     2.0\n",
      "1       2.0     2.0     2.0\n",
      "2       1.0     2.0     2.0\n",
      "3       1.0     2.0     2.0\n",
      "4       2.0     1.0     2.0\n"
     ]
    }
   ],
   "source": [
    "from sklearn.preprocessing import StandardScaler\n",
    "\n",
    "numerical_cols = ['BMXBMI', 'LBXGLU', 'LBXGLT', 'LBXIN']\n",
    "x[numerical_cols] = x[numerical_cols].astype(float)\n",
    "\n",
    "scaler = StandardScaler()\n",
    "x[numerical_cols] = scaler.fit_transform(x[numerical_cols])\n",
    "\n",
    "print(x[['RIAGENDR', 'PAQ605', 'DIQ010']].head())"
   ]
  },
  {
   "cell_type": "code",
   "execution_count": 29,
   "id": "22e2639b-7282-46e5-98f0-1a840b8c89d7",
   "metadata": {},
   "outputs": [
    {
     "name": "stdout",
     "output_type": "stream",
     "text": [
      "      RIAGENDR  PAQ605    BMXBMI        LBXGLU  DIQ010    LBXGLT     LBXIN\n",
      "0          2.0     2.0  1.060679  6.287207e-01     2.0  0.756592  0.317288\n",
      "1          2.0     2.0 -1.051189 -6.276485e-01     2.0 -0.760649 -0.816027\n",
      "2          1.0     2.0 -0.653500 -6.276485e-01     2.0 -1.020747 -0.581371\n",
      "3          1.0     2.0  0.128166  2.697581e-01     2.0 -0.673949  0.444350\n",
      "4          2.0     1.0  1.088106  2.099310e-01     2.0 -0.738974 -0.091566\n",
      "...        ...     ...       ...           ...     ...       ...       ...\n",
      "1961       2.0     2.0  0.758983  3.044964e-02     2.0 -0.912373 -0.541408\n",
      "1962       1.0     2.0  0.279013 -3.883401e-01     2.0  2.013734  0.123620\n",
      "1963       1.0     2.0 -0.584933  2.099310e-01     2.0  0.193045  0.983341\n",
      "1964       2.0     2.0 -0.077536 -5.678214e-01     2.0 -0.153753 -0.699211\n",
      "1965       1.0     2.0 -0.475225  8.501943e-16     2.0 -0.153753 -0.825249\n",
      "\n",
      "[1966 rows x 7 columns]\n"
     ]
    }
   ],
   "source": [
    "# x=pd.get_dummies(x, columns=['RAIGENDR'])\n",
    "print(x)"
   ]
  },
  {
   "cell_type": "code",
   "execution_count": 30,
   "id": "1e18ac1c-2b60-4491-93e5-29de29e96859",
   "metadata": {},
   "outputs": [
    {
     "name": "stdout",
     "output_type": "stream",
     "text": [
      "                     Mean Accuracy  Std Deviation\n",
      "Logistic Regression       0.838762       0.006861\n",
      "SVM                       0.836215       0.002632\n",
      "Random Forest             0.834177       0.007181\n",
      "Decision Tree             0.758376       0.027250\n"
     ]
    }
   ],
   "source": [
    "models = {\n",
    "    \"Logistic Regression\": LogisticRegression(max_iter=1000),\n",
    "    \"SVM\": SVC(probability=True),\n",
    "    \"Decision Tree\": DecisionTreeClassifier(),\n",
    "    \"Random Forest\": RandomForestClassifier()\n",
    "}\n",
    "\n",
    "results={}\n",
    "\n",
    "for name,model in models.items():\n",
    "    pipeline = make_pipeline(StandardScaler(), model)\n",
    "    cv_scores = cross_val_score(pipeline, x, y, cv=5, scoring='accuracy')\n",
    "\n",
    "    results[name] = {\n",
    "        'Mean Accuracy' : np.mean(cv_scores),\n",
    "        'Std Deviation' : np.std(cv_scores)\n",
    "    }\n",
    "\n",
    "results_df = pd.DataFrame(results).T\n",
    "print(results_df.sort_values('Mean Accuracy', ascending=False))\n"
   ]
  },
  {
   "cell_type": "code",
   "execution_count": 31,
   "id": "0307391e-93f5-4fc3-98b2-7d8e938d0685",
   "metadata": {},
   "outputs": [
    {
     "data": {
      "image/png": "[encoded data removed]",
      "text/plain": [
       "<Figure size 1000x600 with 1 Axes>"
      ]
     },
     "metadata": {},
     "output_type": "display_data"
    }
   ],
   "source": [
    "model = LogisticRegression(max_iter=1000).fit(x,y)\n",
    "\n",
    "importance = pd.DataFrame({\n",
    "    'Feature':x.columns,\n",
    "    'Importance':np.abs(model.coef_[0])\n",
    "}).sort_values('Importance', ascending=False)\n",
    "\n",
    "plt.figure(figsize=(10,6))\n",
    "plt.barh(importance.Feature , importance.Importance)\n",
    "plt.title('Feature Importance (Logistic Regression Coeff)')\n",
    "plt.xlabel(\"Absolute Coeff Magnitude\")\n",
    "plt.show()"
   ]
  },
  {
   "cell_type": "code",
   "execution_count": 32,
   "id": "193e446f-0ba5-4598-869d-54724d50789f",
   "metadata": {},
   "outputs": [
    {
     "name": "stdout",
     "output_type": "stream",
     "text": [
      "Best parameters:  {'C': 10, 'penalty': 'l2', 'solver': 'saga'}\n",
      "Best Cross-val Accuracy:  0.8387620929721911\n"
     ]
    }
   ],
   "source": [
    "from sklearn.model_selection import GridSearchCV\n",
    "\n",
    "param_grid = {\n",
    "    'penalty': ['l1', 'l2'],          # Regularization type\n",
    "    'C': [0.001, 0.01, 0.1, 1, 10],   # Inverse of regularization strength\n",
    "    'solver': ['liblinear', 'saga']   # Solvers that support L1/L2\n",
    "}\n",
    "\n",
    "grid_search = GridSearchCV(\n",
    "    LogisticRegression(max_iter=1000),\n",
    "    param_grid,\n",
    "    cv=5,\n",
    "    scoring='accuracy'\n",
    ")\n",
    "\n",
    "grid_search.fit(x,y)\n",
    "\n",
    "print('Best parameters: ' , grid_search.best_params_)\n",
    "print('Best Cross-val Accuracy: ' , grid_search.best_score_)\n",
    "\n",
    "best_lr=grid_search.best_estimator_"
   ]
  },
  {
   "cell_type": "code",
   "execution_count": 33,
   "id": "a04c868a-4bf9-4d93-88a2-51933a77629d",
   "metadata": {},
   "outputs": [
    {
     "data": {
      "text/html": [
       "<div>\n",
       "<style scoped>\n",
       "    .dataframe tbody tr th:only-of-type {\n",
       "        vertical-align: middle;\n",
       "    }\n",
       "\n",
       "    .dataframe tbody tr th {\n",
       "        vertical-align: top;\n",
       "    }\n",
       "\n",
       "    .dataframe thead th {\n",
       "        text-align: right;\n",
       "    }\n",
       "</style>\n",
       "<table border=\"1\" class=\"dataframe\">\n",
       "  <thead>\n",
       "    <tr style=\"text-align: right;\">\n",
       "      <th></th>\n",
       "      <th>RIAGENDR</th>\n",
       "      <th>PAQ605</th>\n",
       "      <th>BMXBMI</th>\n",
       "      <th>LBXGLU</th>\n",
       "      <th>DIQ010</th>\n",
       "      <th>LBXGLT</th>\n",
       "      <th>LBXIN</th>\n",
       "    </tr>\n",
       "  </thead>\n",
       "  <tbody>\n",
       "    <tr>\n",
       "      <th>0</th>\n",
       "      <td>1.0</td>\n",
       "      <td>1.0</td>\n",
       "      <td>32.2</td>\n",
       "      <td>96.0</td>\n",
       "      <td>2.0</td>\n",
       "      <td>135.0</td>\n",
       "      <td>15.11</td>\n",
       "    </tr>\n",
       "    <tr>\n",
       "      <th>1</th>\n",
       "      <td>2.0</td>\n",
       "      <td>2.0</td>\n",
       "      <td>26.3</td>\n",
       "      <td>100.0</td>\n",
       "      <td>2.0</td>\n",
       "      <td>141.0</td>\n",
       "      <td>15.26</td>\n",
       "    </tr>\n",
       "    <tr>\n",
       "      <th>2</th>\n",
       "      <td>1.0</td>\n",
       "      <td>2.0</td>\n",
       "      <td>28.6</td>\n",
       "      <td>107.0</td>\n",
       "      <td>2.0</td>\n",
       "      <td>136.0</td>\n",
       "      <td>8.82</td>\n",
       "    </tr>\n",
       "    <tr>\n",
       "      <th>3</th>\n",
       "      <td>2.0</td>\n",
       "      <td>1.0</td>\n",
       "      <td>22.1</td>\n",
       "      <td>93.0</td>\n",
       "      <td>2.0</td>\n",
       "      <td>111.0</td>\n",
       "      <td>12.13</td>\n",
       "    </tr>\n",
       "    <tr>\n",
       "      <th>4</th>\n",
       "      <td>1.0</td>\n",
       "      <td>1.0</td>\n",
       "      <td>24.7</td>\n",
       "      <td>91.0</td>\n",
       "      <td>2.0</td>\n",
       "      <td>105.0</td>\n",
       "      <td>3.12</td>\n",
       "    </tr>\n",
       "  </tbody>\n",
       "</table>\n",
       "</div>"
      ],
      "text/plain": [
       "   RIAGENDR  PAQ605  BMXBMI  LBXGLU  DIQ010  LBXGLT  LBXIN\n",
       "0       1.0     1.0    32.2    96.0     2.0   135.0  15.11\n",
       "1       2.0     2.0    26.3   100.0     2.0   141.0  15.26\n",
       "2       1.0     2.0    28.6   107.0     2.0   136.0   8.82\n",
       "3       2.0     1.0    22.1    93.0     2.0   111.0  12.13\n",
       "4       1.0     1.0    24.7    91.0     2.0   105.0   3.12"
      ]
     },
     "execution_count": 33,
     "metadata": {},
     "output_type": "execute_result"
    }
   ],
   "source": [
    "test = test.drop(['SEQN', 'RIDAGEYR'], axis='columns')\n",
    "test.head()"
   ]
  },
  {
   "cell_type": "code",
   "execution_count": 34,
   "id": "c839efdb-f372-4eea-a017-300748f6df91",
   "metadata": {},
   "outputs": [
    {
     "data": {
      "text/plain": [
       "RIAGENDR    2\n",
       "PAQ605      1\n",
       "BMXBMI      1\n",
       "LBXGLU      1\n",
       "DIQ010      1\n",
       "LBXGLT      2\n",
       "LBXIN       1\n",
       "dtype: int64"
      ]
     },
     "execution_count": 34,
     "metadata": {},
     "output_type": "execute_result"
    }
   ],
   "source": [
    "test.isna().sum()"
   ]
  },
  {
   "cell_type": "code",
   "execution_count": 35,
   "id": "c6b753ec-57af-4c95-91c7-420a2a5ce4f9",
   "metadata": {},
   "outputs": [],
   "source": [
    "# test = test.fillna(test.median())\n",
    "# test.isna().sum()"
   ]
  },
  {
   "cell_type": "code",
   "execution_count": 36,
   "id": "ce59a53c-2d43-48a9-9941-3dc2dc75a2b1",
   "metadata": {},
   "outputs": [
    {
     "data": {
      "text/html": [
       "<div>\n",
       "<style scoped>\n",
       "    .dataframe tbody tr th:only-of-type {\n",
       "        vertical-align: middle;\n",
       "    }\n",
       "\n",
       "    .dataframe tbody tr th {\n",
       "        vertical-align: top;\n",
       "    }\n",
       "\n",
       "    .dataframe thead th {\n",
       "        text-align: right;\n",
       "    }\n",
       "</style>\n",
       "<table border=\"1\" class=\"dataframe\">\n",
       "  <thead>\n",
       "    <tr style=\"text-align: right;\">\n",
       "      <th></th>\n",
       "      <th>RIAGENDR</th>\n",
       "      <th>PAQ605</th>\n",
       "      <th>BMXBMI</th>\n",
       "      <th>LBXGLU</th>\n",
       "      <th>DIQ010</th>\n",
       "      <th>LBXGLT</th>\n",
       "      <th>LBXIN</th>\n",
       "    </tr>\n",
       "  </thead>\n",
       "  <tbody>\n",
       "    <tr>\n",
       "      <th>0</th>\n",
       "      <td>1.0</td>\n",
       "      <td>1.0</td>\n",
       "      <td>32.2</td>\n",
       "      <td>96.0</td>\n",
       "      <td>2.0</td>\n",
       "      <td>135.0</td>\n",
       "      <td>15.11</td>\n",
       "    </tr>\n",
       "    <tr>\n",
       "      <th>1</th>\n",
       "      <td>2.0</td>\n",
       "      <td>2.0</td>\n",
       "      <td>26.3</td>\n",
       "      <td>100.0</td>\n",
       "      <td>2.0</td>\n",
       "      <td>141.0</td>\n",
       "      <td>15.26</td>\n",
       "    </tr>\n",
       "    <tr>\n",
       "      <th>2</th>\n",
       "      <td>1.0</td>\n",
       "      <td>2.0</td>\n",
       "      <td>28.6</td>\n",
       "      <td>107.0</td>\n",
       "      <td>2.0</td>\n",
       "      <td>136.0</td>\n",
       "      <td>8.82</td>\n",
       "    </tr>\n",
       "    <tr>\n",
       "      <th>3</th>\n",
       "      <td>2.0</td>\n",
       "      <td>1.0</td>\n",
       "      <td>22.1</td>\n",
       "      <td>93.0</td>\n",
       "      <td>2.0</td>\n",
       "      <td>111.0</td>\n",
       "      <td>12.13</td>\n",
       "    </tr>\n",
       "    <tr>\n",
       "      <th>4</th>\n",
       "      <td>1.0</td>\n",
       "      <td>1.0</td>\n",
       "      <td>24.7</td>\n",
       "      <td>91.0</td>\n",
       "      <td>2.0</td>\n",
       "      <td>105.0</td>\n",
       "      <td>3.12</td>\n",
       "    </tr>\n",
       "  </tbody>\n",
       "</table>\n",
       "</div>"
      ],
      "text/plain": [
       "   RIAGENDR  PAQ605  BMXBMI  LBXGLU  DIQ010  LBXGLT  LBXIN\n",
       "0       1.0     1.0    32.2    96.0     2.0   135.0  15.11\n",
       "1       2.0     2.0    26.3   100.0     2.0   141.0  15.26\n",
       "2       1.0     2.0    28.6   107.0     2.0   136.0   8.82\n",
       "3       2.0     1.0    22.1    93.0     2.0   111.0  12.13\n",
       "4       1.0     1.0    24.7    91.0     2.0   105.0   3.12"
      ]
     },
     "execution_count": 36,
     "metadata": {},
     "output_type": "execute_result"
    }
   ],
   "source": [
    "test.head()"
   ]
  },
  {
   "cell_type": "code",
   "execution_count": 38,
   "id": "a343c3fb-d5c5-4035-b969-0aa4adb681bb",
   "metadata": {},
   "outputs": [
    {
     "data": {
      "text/plain": [
       "DIQ010\n",
       "2.0    303\n",
       "3.0      7\n",
       "1.0      1\n",
       "NaN      1\n",
       "Name: count, dtype: int64"
      ]
     },
     "execution_count": 38,
     "metadata": {},
     "output_type": "execute_result"
    }
   ],
   "source": [
    "test.DIQ010.value_counts(dropna=False)"
   ]
  },
  {
   "cell_type": "code",
   "execution_count": 39,
   "id": "d7f2226c-b2d2-4381-8f03-00d8d45e1df7",
   "metadata": {},
   "outputs": [
    {
     "data": {
      "text/plain": [
       "RIAGENDR    float64\n",
       "PAQ605      float64\n",
       "BMXBMI      float64\n",
       "LBXGLU      float64\n",
       "DIQ010      float64\n",
       "LBXGLT      float64\n",
       "LBXIN       float64\n",
       "dtype: object"
      ]
     },
     "execution_count": 39,
     "metadata": {},
     "output_type": "execute_result"
    }
   ],
   "source": [
    "test.dtypes"
   ]
  },
  {
   "cell_type": "code",
   "execution_count": 40,
   "id": "053fbd8d-1996-4998-80bd-176cca006ee7",
   "metadata": {},
   "outputs": [
    {
     "data": {
      "text/html": [
       "<div>\n",
       "<style scoped>\n",
       "    .dataframe tbody tr th:only-of-type {\n",
       "        vertical-align: middle;\n",
       "    }\n",
       "\n",
       "    .dataframe tbody tr th {\n",
       "        vertical-align: top;\n",
       "    }\n",
       "\n",
       "    .dataframe thead th {\n",
       "        text-align: right;\n",
       "    }\n",
       "</style>\n",
       "<table border=\"1\" class=\"dataframe\">\n",
       "  <thead>\n",
       "    <tr style=\"text-align: right;\">\n",
       "      <th></th>\n",
       "      <th>RIAGENDR</th>\n",
       "      <th>PAQ605</th>\n",
       "      <th>BMXBMI</th>\n",
       "      <th>LBXGLU</th>\n",
       "      <th>DIQ010</th>\n",
       "      <th>LBXGLT</th>\n",
       "      <th>LBXIN</th>\n",
       "    </tr>\n",
       "  </thead>\n",
       "  <tbody>\n",
       "    <tr>\n",
       "      <th>0</th>\n",
       "      <td>1.0</td>\n",
       "      <td>1.0</td>\n",
       "      <td>32.2</td>\n",
       "      <td>96.0</td>\n",
       "      <td>2.0</td>\n",
       "      <td>135.0</td>\n",
       "      <td>15.11</td>\n",
       "    </tr>\n",
       "    <tr>\n",
       "      <th>1</th>\n",
       "      <td>2.0</td>\n",
       "      <td>2.0</td>\n",
       "      <td>26.3</td>\n",
       "      <td>100.0</td>\n",
       "      <td>2.0</td>\n",
       "      <td>141.0</td>\n",
       "      <td>15.26</td>\n",
       "    </tr>\n",
       "    <tr>\n",
       "      <th>2</th>\n",
       "      <td>1.0</td>\n",
       "      <td>2.0</td>\n",
       "      <td>28.6</td>\n",
       "      <td>107.0</td>\n",
       "      <td>2.0</td>\n",
       "      <td>136.0</td>\n",
       "      <td>8.82</td>\n",
       "    </tr>\n",
       "    <tr>\n",
       "      <th>3</th>\n",
       "      <td>2.0</td>\n",
       "      <td>1.0</td>\n",
       "      <td>22.1</td>\n",
       "      <td>93.0</td>\n",
       "      <td>2.0</td>\n",
       "      <td>111.0</td>\n",
       "      <td>12.13</td>\n",
       "    </tr>\n",
       "    <tr>\n",
       "      <th>4</th>\n",
       "      <td>1.0</td>\n",
       "      <td>1.0</td>\n",
       "      <td>24.7</td>\n",
       "      <td>91.0</td>\n",
       "      <td>2.0</td>\n",
       "      <td>105.0</td>\n",
       "      <td>3.12</td>\n",
       "    </tr>\n",
       "  </tbody>\n",
       "</table>\n",
       "</div>"
      ],
      "text/plain": [
       "   RIAGENDR  PAQ605  BMXBMI  LBXGLU  DIQ010  LBXGLT  LBXIN\n",
       "0       1.0     1.0    32.2    96.0     2.0   135.0  15.11\n",
       "1       2.0     2.0    26.3   100.0     2.0   141.0  15.26\n",
       "2       1.0     2.0    28.6   107.0     2.0   136.0   8.82\n",
       "3       2.0     1.0    22.1    93.0     2.0   111.0  12.13\n",
       "4       1.0     1.0    24.7    91.0     2.0   105.0   3.12"
      ]
     },
     "execution_count": 40,
     "metadata": {},
     "output_type": "execute_result"
    }
   ],
   "source": [
    "test = test.fillna(test.median())\n",
    "test.head()"
   ]
  },
  {
   "cell_type": "code",
   "execution_count": 41,
   "id": "80428488-60a3-46b5-9114-4ee8107b5854",
   "metadata": {},
   "outputs": [
    {
     "data": {
      "text/plain": [
       "DIQ010\n",
       "2.0    304\n",
       "3.0      7\n",
       "1.0      1\n",
       "Name: count, dtype: int64"
      ]
     },
     "execution_count": 41,
     "metadata": {},
     "output_type": "execute_result"
    }
   ],
   "source": [
    "test.DIQ010.value_counts(dropna=False)"
   ]
  },
  {
   "cell_type": "code",
   "execution_count": 42,
   "id": "c0671791-3360-407e-8f47-567b1dd90c7d",
   "metadata": {},
   "outputs": [
    {
     "name": "stdout",
     "output_type": "stream",
     "text": [
      "['BMXBMI', 'LBXGLU', 'LBXGLT', 'LBXIN']\n"
     ]
    }
   ],
   "source": [
    "print(numerical_cols)"
   ]
  },
  {
   "cell_type": "code",
   "execution_count": 43,
   "id": "fe152034-77b4-4173-8514-f46ec8a00377",
   "metadata": {},
   "outputs": [
    {
     "data": {
      "text/html": [
       "<div>\n",
       "<style scoped>\n",
       "    .dataframe tbody tr th:only-of-type {\n",
       "        vertical-align: middle;\n",
       "    }\n",
       "\n",
       "    .dataframe tbody tr th {\n",
       "        vertical-align: top;\n",
       "    }\n",
       "\n",
       "    .dataframe thead th {\n",
       "        text-align: right;\n",
       "    }\n",
       "</style>\n",
       "<table border=\"1\" class=\"dataframe\">\n",
       "  <thead>\n",
       "    <tr style=\"text-align: right;\">\n",
       "      <th></th>\n",
       "      <th>RIAGENDR</th>\n",
       "      <th>PAQ605</th>\n",
       "      <th>BMXBMI</th>\n",
       "      <th>LBXGLU</th>\n",
       "      <th>DIQ010</th>\n",
       "      <th>LBXGLT</th>\n",
       "      <th>LBXIN</th>\n",
       "    </tr>\n",
       "  </thead>\n",
       "  <tbody>\n",
       "    <tr>\n",
       "      <th>0</th>\n",
       "      <td>1.0</td>\n",
       "      <td>1.0</td>\n",
       "      <td>0.656036</td>\n",
       "      <td>-0.170174</td>\n",
       "      <td>2.0</td>\n",
       "      <td>0.399778</td>\n",
       "      <td>0.361753</td>\n",
       "    </tr>\n",
       "    <tr>\n",
       "      <th>1</th>\n",
       "      <td>2.0</td>\n",
       "      <td>2.0</td>\n",
       "      <td>-0.225125</td>\n",
       "      <td>-0.002420</td>\n",
       "      <td>2.0</td>\n",
       "      <td>0.514915</td>\n",
       "      <td>0.377475</td>\n",
       "    </tr>\n",
       "    <tr>\n",
       "      <th>2</th>\n",
       "      <td>1.0</td>\n",
       "      <td>2.0</td>\n",
       "      <td>0.118379</td>\n",
       "      <td>0.291151</td>\n",
       "      <td>2.0</td>\n",
       "      <td>0.418968</td>\n",
       "      <td>-0.297527</td>\n",
       "    </tr>\n",
       "    <tr>\n",
       "      <th>3</th>\n",
       "      <td>2.0</td>\n",
       "      <td>1.0</td>\n",
       "      <td>-0.852392</td>\n",
       "      <td>-0.295990</td>\n",
       "      <td>2.0</td>\n",
       "      <td>-0.060766</td>\n",
       "      <td>0.049407</td>\n",
       "    </tr>\n",
       "    <tr>\n",
       "      <th>4</th>\n",
       "      <td>1.0</td>\n",
       "      <td>1.0</td>\n",
       "      <td>-0.464084</td>\n",
       "      <td>-0.379867</td>\n",
       "      <td>2.0</td>\n",
       "      <td>-0.175902</td>\n",
       "      <td>-0.894967</td>\n",
       "    </tr>\n",
       "  </tbody>\n",
       "</table>\n",
       "</div>"
      ],
      "text/plain": [
       "   RIAGENDR  PAQ605    BMXBMI    LBXGLU  DIQ010    LBXGLT     LBXIN\n",
       "0       1.0     1.0  0.656036 -0.170174     2.0  0.399778  0.361753\n",
       "1       2.0     2.0 -0.225125 -0.002420     2.0  0.514915  0.377475\n",
       "2       1.0     2.0  0.118379  0.291151     2.0  0.418968 -0.297527\n",
       "3       2.0     1.0 -0.852392 -0.295990     2.0 -0.060766  0.049407\n",
       "4       1.0     1.0 -0.464084 -0.379867     2.0 -0.175902 -0.894967"
      ]
     },
     "execution_count": 43,
     "metadata": {},
     "output_type": "execute_result"
    }
   ],
   "source": [
    "scaler = StandardScaler()\n",
    "test[numerical_cols] = scaler.fit_transform(test[numerical_cols])\n",
    "test.head()"
   ]
  },
  {
   "cell_type": "code",
   "execution_count": 44,
   "id": "c65254e3-a46d-41e3-90e7-d758b1863050",
   "metadata": {},
   "outputs": [
    {
     "name": "stdout",
     "output_type": "stream",
     "text": [
      "[0 0 0 0 0 0 0 0 0 0 0 0 0 0 0 0 0 0 0 0 0 0 0 0 0 0 0 0 0 0 0 0 0 0 0 0 0\n",
      " 0 0 0 0 0 0 0 0 0 0 0 0 0 0 0 0 0 0 0 0 0 0 0 0 0 0 0 0 0 0 0 0 0 0 0 0 0\n",
      " 0 0 0 0 0 0 0 0 0 0 0 0 0 0 0 0 0 0 0 0 0 0 0 0 0 0 0 0 0 0 0 0 0 0 0 0 0\n",
      " 0 0 0 0 0 0 0 0 0 0 0 0 0 0 0 0 0 0 0 0 0 0 0 0 0 0 1 0 0 1 0 0 0 0 0 0 0\n",
      " 0 0 0 0 0 0 0 0 0 0 0 0 0 1 0 0 0 0 0 0 0 0 0 0 1 0 0 0 0 0 0 0 0 0 0 0 0\n",
      " 0 0 0 0 0 0 0 0 0 0 0 0 0 0 0 0 0 0 0 0 0 0 0 0 0 0 0 0 0 0 0 0 0 0 0 0 0\n",
      " 0 0 0 0 0 0 0 0 0 0 0 0 0 0 0 0 0 0 0 0 0 0 0 0 0 0 0 0 0 0 0 0 0 0 0 0 0\n",
      " 0 0 0 0 0 0 0 0 0 0 1 0 0 0 0 0 0 0 0 0 0 0 0 0 0 0 0 0 1 0 0 0 0 0 0 0 0\n",
      " 0 0 0 0 0 0 0 0 0 0 0 0 0 0 0 0]\n"
     ]
    }
   ],
   "source": [
    "# Predict on new data (e.g., your test set)\n",
    "test_predictions = best_lr.predict(test)\n",
    "\n",
    "print(test_predictions)\n",
    "# pd.DataFrame({'age_group': test_predictions}).to_csv(\"submission.csv\", index=False)"
   ]
  },
  {
   "cell_type": "code",
   "execution_count": 45,
   "id": "9080e1af-102f-4892-ab97-6e7656eeec6b",
   "metadata": {},
   "outputs": [],
   "source": [
    "pd.DataFrame({'age_group': test_predictions}).to_csv(\"submission.csv\", index=False)"
   ]
  },
  {
   "cell_type": "code",
   "execution_count": null,
   "id": "53d9b7c9-d9bc-497e-b626-a8e64e5c2340",
   "metadata": {},
   "outputs": [],
   "source": []
  }
 ],
 "metadata": {
  "kernelspec": {
   "display_name": "Python 3 (ipykernel)",
   "language": "python",
   "name": "python3"
  },
  "language_info": {
   "codemirror_mode": {
    "name": "ipython",
    "version": 3
   },
   "file_extension": ".py",
   "mimetype": "text/x-python",
   "name": "python",
   "nbconvert_exporter": "python",
   "pygments_lexer": "ipython3",
   "version": "3.11.7"
  }
 },
 "nbformat": 4,
 "nbformat_minor": 5
}
